{
 "cells": [
  {
   "cell_type": "code",
   "execution_count": 1,
   "metadata": {},
   "outputs": [],
   "source": [
    "import folium\n",
    "import pandas"
   ]
  },
  {
   "cell_type": "code",
   "execution_count": 8,
   "metadata": {},
   "outputs": [],
   "source": [
    "data=pandas.read_csv(\"Volcanoes.txt\")\n",
    "lat=list(data[\"LAT\"])\n",
    "lon=list(data[\"LON\"])\n",
    "elev=list(data[\"ELEV\"])\n",
    "name=list(data[\"NAME\"])\n",
    "\n",
    "def color_producer(elevation):\n",
    "    if elevation < 1000:\n",
    "        return \"blue\"\n",
    "    elif 1000 <= elevation < 3000:\n",
    "        return \"orange\"\n",
    "    else:\n",
    "        return \"red\"\n",
    "\n",
    "html = \"\"\"\n",
    "Volcano name:<br>\n",
    "<a href=\"https://www.google.com/search?q=%%22%s%%22\" target=\"_blank\">%s</a><br>\n",
    "Height: %s m\n",
    "\"\"\"\n",
    "\n",
    "map=folium.Map(location=[38.58,-99.09],zoom_start=6,tiles = \"Stamen Terrain\")\n",
    "\n",
    "fgv=folium.FeatureGroup(name=\"Volcanoes\")\n",
    "\n",
    "for lt,ln,el,name in zip(lat,lon,elev,name):\n",
    "    iframe = folium.IFrame(html=html % (name,name,el), width=200, height=100)\n",
    "    fgv.add_child(folium.Marker(location=[lt,ln], popup=folium.Popup(iframe) ,icon=folium.Icon(color=color_producer(el))))\n",
    "fgp=folium.FeatureGroup(name=\"Population\")\n",
    "\n",
    "fgp.add_child(folium.GeoJson(data=open('world.json','r',encoding='utf-8-sig').read(),\n",
    "                           style_function=lambda x:{'fillColor':'green' if x['properties']['POP2005']<10000000\n",
    "                                                   else 'yellow' if 10000000 <= x['properties']['POP2005']<20000000\n",
    "                                                   else 'red'}))\n",
    "\n",
    "map.add_child(fgv)\n",
    "map.add_child(fgp)\n",
    "map.add_child(folium.LayerControl())\n",
    "\n",
    "map.save(\"Map1.html\")"
   ]
  },
  {
   "cell_type": "code",
   "execution_count": null,
   "metadata": {},
   "outputs": [],
   "source": []
  }
 ],
 "metadata": {
  "kernelspec": {
   "display_name": "Python 3",
   "language": "python",
   "name": "python3"
  },
  "language_info": {
   "codemirror_mode": {
    "name": "ipython",
    "version": 3
   },
   "file_extension": ".py",
   "mimetype": "text/x-python",
   "name": "python",
   "nbconvert_exporter": "python",
   "pygments_lexer": "ipython3",
   "version": "3.7.4"
  }
 },
 "nbformat": 4,
 "nbformat_minor": 2
}
